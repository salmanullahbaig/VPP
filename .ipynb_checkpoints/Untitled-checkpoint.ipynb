{
 "cells": [
  {
   "cell_type": "markdown",
   "metadata": {},
   "source": [
    "# Payment separations"
   ]
  },
  {
   "cell_type": "code",
   "execution_count": 4,
   "metadata": {
    "ExecuteTime": {
     "end_time": "2022-06-23T06:40:46.128823Z",
     "start_time": "2022-06-23T06:40:46.113832Z"
    }
   },
   "outputs": [],
   "source": [
    "import django\n",
    "django.setup()\n",
    "\n",
    "import os\n",
    "import django\n",
    "os.environ.setdefault('DJANGO_SETTINGS_MODULE', 'rest.settings')\n",
    "os.environ[\"DJANGO_ALLOW_ASYNC_UNSAFE\"] = \"true\"\n",
    "django.setup()\n",
    "    \n",
    "from django.contrib.auth.models import User\n"
   ]
  },
  {
   "cell_type": "code",
   "execution_count": 5,
   "metadata": {
    "ExecuteTime": {
     "end_time": "2022-06-23T06:40:49.205995Z",
     "start_time": "2022-06-23T06:40:49.154007Z"
    },
    "code_folding": []
   },
   "outputs": [],
   "source": [
    "from accounts.models import Refer\n",
    "from affilate.models import user_wallet , user_bonus as User_Bonus_Model\n",
    "from django.contrib.auth.models import User\n",
    "\n",
    "company_username= 'superuser1'\n",
    "superuser =  User.objects.get(username= company_username)\n",
    "\n",
    "def make_transcation(from_user, to_user, amount):\n",
    "    print(\"Trying to Add \", amount , \" to \", to_user)\n",
    "    try:\n",
    "        transfer_usdt(from_user, to_user, amount)\n",
    "        print(\"Added \", amount , \" to \", to_user)\n",
    "    except Exception as e:\n",
    "        pass\n",
    "\n",
    "def distrubute_refer_bonus(user, total_amount):\n",
    "    ref_tree = Refer.objects.get(user = user)\n",
    "    ref_by = ref_tree.recommended_by\n",
    "    #Checking refer_uptill_top\n",
    "    counter = 1\n",
    "    percentage_used = 0\n",
    "    while True:\n",
    "        if counter ==1:\n",
    "            if ref_by.username == company_username:\n",
    "                make_transcation(user ,ref_by, total_amount)\n",
    "                percentage_used=100\n",
    "                break\n",
    "            else:\n",
    "                #Direct Refer\n",
    "                amount_add = (10 * total_amount)/100\n",
    "                make_transcation(user, ref_by, amount_add)\n",
    "                print(\"Adding amount \", amount_add)\n",
    "                percentage_used=10\n",
    "                #Adding the bonus to database\n",
    "                bonus_name = 'Referal bonus11'\n",
    "                bonus_instance =  User_Bonus_Model(user=user,bonus=bonus_name, amount=amount_add  )\n",
    "                bonus_instance.save()\n",
    "                print(\"saved\", counter)\n",
    "                #bonus for first user\n",
    "\n",
    "        if counter == 2:\n",
    "            if ref_by.username == company_username:\n",
    "                percent =100 - percentage_used\n",
    "                amount_add = (percent * total_amount)/100\n",
    "                make_transcation(user ,ref_by, amount_add)\n",
    "                percentage_used=100\n",
    "                break\n",
    "            else:\n",
    "                #Direct Refer\n",
    "                amount_add = (5 * total_amount)/100\n",
    "                make_transcation(user, ref_by, amount_add)\n",
    "                print(\"Adding amount \", amount_add)\n",
    "                percentage_used=percentage_used + 5\n",
    "                #Adding the bonus to database\n",
    "                bonus_name = 'Referal bonus1'\n",
    "                bonus_instance =  User_Bonus_Model(user=user,bonus=bonus_name, amount=amount_add  )\n",
    "                bonus_instance.save()\n",
    "                print(\"saved\", counter)\n",
    "                #bonus for first user\n",
    "\n",
    "        if counter == 3:\n",
    "            if ref_by.username == company_username:\n",
    "                percent =100 - percentage_used\n",
    "                amount_add = (percent * total_amount)/100\n",
    "                make_transcation(user ,ref_by, amount_add)\n",
    "                percentage_used=100\n",
    "                break\n",
    "            else:\n",
    "                #Direct Refer\n",
    "                amount_add = (5 * total_amount)/100\n",
    "                make_transcation(user, ref_by, amount_add)\n",
    "                print(\"Adding amount \", amount_add)\n",
    "                percentage_used=percentage_used + 5\n",
    "                #Adding the bonus to database\n",
    "                bonus_instance =  User_Bonus_Model(user=user,bonus=bonus_name, amount=amount_add  )\n",
    "                bonus_instance.save()\n",
    "                print(\"saved\", counter)\n",
    "                #bonus for first user\n",
    "        if counter == 4:\n",
    "            if ref_by.username == company_username:\n",
    "                percent =100 - percentage_used\n",
    "                amount_add = (percent * total_amount)/100\n",
    "                make_transcation(user ,ref_by, amount_add)\n",
    "                percentage_used=100\n",
    "                break\n",
    "            else:\n",
    "                #Direct Refer\n",
    "                amount_add = (5 * total_amount)/100\n",
    "                make_transcation(user, ref_by, amount_add)\n",
    "                print(\"Adding amount \", amount_add)\n",
    "                percentage_used=percentage_used + 5\n",
    "                #Adding the bonus to database\n",
    "                bonus_instance =  User_Bonus_Model(user=user,bonus=bonus_name, amount=amount_add  )\n",
    "                bonus_instance.save()\n",
    "                print(\"saved\", counter)\n",
    "                #bonus for first user\n",
    "\n",
    "        if counter == 5:\n",
    "            percent =100 - percentage_used\n",
    "            amount_add = (percent * total_amount)/100\n",
    "            make_transcation(user ,superuser, amount_add)\n",
    "            percentage_used=100\n",
    "            break\n",
    "\n",
    "        counter +=1\n",
    "        ref_tree = Refer.objects.get(user = ref_by)\n",
    "        ref_by = ref_tree.recommended_by\n",
    "\n"
   ]
  },
  {
   "cell_type": "code",
   "execution_count": 10,
   "metadata": {
    "ExecuteTime": {
     "end_time": "2022-06-22T21:54:02.425151Z",
     "start_time": "2022-06-22T21:54:01.527148Z"
    }
   },
   "outputs": [
    {
     "name": "stdout",
     "output_type": "stream",
     "text": [
      "Adding  10.0  to  testuser2\n",
      "Adding amount  10.0\n",
      "saved 1\n",
      "Adding  5.0  to  testuser1\n",
      "Adding amount  5.0\n",
      "saved 2\n",
      "Adding  5.0  to  testuser\n",
      "Adding amount  5.0\n",
      "saved 3\n",
      "Adding  80.0  to  superuser1\n"
     ]
    }
   ],
   "source": [
    "kt = User.objects.get(username= 'KatharineS')\n",
    "distrubute_refer_bonus(kt, 100)\n"
   ]
  },
  {
   "cell_type": "code",
   "execution_count": 11,
   "metadata": {
    "ExecuteTime": {
     "end_time": "2022-06-22T21:59:23.971999Z",
     "start_time": "2022-06-22T21:59:23.964025Z"
    }
   },
   "outputs": [
    {
     "data": {
      "text/plain": [
       "<User: salmanullahbaig>"
      ]
     },
     "execution_count": 11,
     "metadata": {},
     "output_type": "execute_result"
    }
   ],
   "source": [
    "salman = User.objects.get(username= 'salmanullahbaig')\n",
    "salman"
   ]
  },
  {
   "cell_type": "code",
   "execution_count": 14,
   "metadata": {
    "ExecuteTime": {
     "end_time": "2022-06-22T22:07:39.702412Z",
     "start_time": "2022-06-22T22:07:38.510458Z"
    }
   },
   "outputs": [
    {
     "name": "stdout",
     "output_type": "stream",
     "text": [
      "Adding  2000.0  to  KatharineS\n",
      "Adding amount  2000.0\n",
      "saved 1\n",
      "Adding  1000.0  to  testuser2\n",
      "Adding amount  1000.0\n",
      "saved 2\n",
      "Adding  1000.0  to  testuser1\n",
      "Adding amount  1000.0\n",
      "saved 3\n",
      "Adding  1000.0  to  testuser\n",
      "Adding amount  1000.0\n",
      "saved 4\n",
      "Adding  15000.0  to  superuser1\n"
     ]
    }
   ],
   "source": [
    "distrubute_refer_bonus(salman, 20000)"
   ]
  },
  {
   "cell_type": "code",
   "execution_count": 22,
   "metadata": {
    "ExecuteTime": {
     "end_time": "2022-06-23T05:52:21.375415Z",
     "start_time": "2022-06-23T05:52:21.357429Z"
    }
   },
   "outputs": [
    {
     "data": {
      "text/plain": [
       "<QuerySet [<user_wallet: superuser-0.0>, <user_wallet: testuser1-0.0>, <user_wallet: superuser1-0.0>, <user_wallet: KatharineS-0.0>]>"
      ]
     },
     "execution_count": 22,
     "metadata": {},
     "output_type": "execute_result"
    }
   ],
   "source": [
    "\n",
    "\n",
    "user_wallet.objects.all()\n"
   ]
  },
  {
   "cell_type": "code",
   "execution_count": 24,
   "metadata": {
    "ExecuteTime": {
     "end_time": "2022-06-23T05:53:23.148629Z",
     "start_time": "2022-06-23T05:53:23.119644Z"
    },
    "collapsed": true
   },
   "outputs": [
    {
     "ename": "AttributeError",
     "evalue": "'user_bonus' object has no attribute 'blance'",
     "output_type": "error",
     "traceback": [
      "\u001b[1;31m---------------------------------------------------------------------------\u001b[0m",
      "\u001b[1;31mAttributeError\u001b[0m                            Traceback (most recent call last)",
      "\u001b[1;32m~\\miniconda3\\lib\\site-packages\\IPython\\core\\formatters.py\u001b[0m in \u001b[0;36m__call__\u001b[1;34m(self, obj)\u001b[0m\n\u001b[0;32m    700\u001b[0m                 \u001b[0mtype_pprinters\u001b[0m\u001b[1;33m=\u001b[0m\u001b[0mself\u001b[0m\u001b[1;33m.\u001b[0m\u001b[0mtype_printers\u001b[0m\u001b[1;33m,\u001b[0m\u001b[1;33m\u001b[0m\u001b[1;33m\u001b[0m\u001b[0m\n\u001b[0;32m    701\u001b[0m                 deferred_pprinters=self.deferred_printers)\n\u001b[1;32m--> 702\u001b[1;33m             \u001b[0mprinter\u001b[0m\u001b[1;33m.\u001b[0m\u001b[0mpretty\u001b[0m\u001b[1;33m(\u001b[0m\u001b[0mobj\u001b[0m\u001b[1;33m)\u001b[0m\u001b[1;33m\u001b[0m\u001b[1;33m\u001b[0m\u001b[0m\n\u001b[0m\u001b[0;32m    703\u001b[0m             \u001b[0mprinter\u001b[0m\u001b[1;33m.\u001b[0m\u001b[0mflush\u001b[0m\u001b[1;33m(\u001b[0m\u001b[1;33m)\u001b[0m\u001b[1;33m\u001b[0m\u001b[1;33m\u001b[0m\u001b[0m\n\u001b[0;32m    704\u001b[0m             \u001b[1;32mreturn\u001b[0m \u001b[0mstream\u001b[0m\u001b[1;33m.\u001b[0m\u001b[0mgetvalue\u001b[0m\u001b[1;33m(\u001b[0m\u001b[1;33m)\u001b[0m\u001b[1;33m\u001b[0m\u001b[1;33m\u001b[0m\u001b[0m\n",
      "\u001b[1;32m~\\miniconda3\\lib\\site-packages\\IPython\\lib\\pretty.py\u001b[0m in \u001b[0;36mpretty\u001b[1;34m(self, obj)\u001b[0m\n\u001b[0;32m    392\u001b[0m                         \u001b[1;32mif\u001b[0m \u001b[0mcls\u001b[0m \u001b[1;32mis\u001b[0m \u001b[1;32mnot\u001b[0m \u001b[0mobject\u001b[0m\u001b[0;31m \u001b[0m\u001b[0;31m\\\u001b[0m\u001b[1;33m\u001b[0m\u001b[1;33m\u001b[0m\u001b[0m\n\u001b[0;32m    393\u001b[0m                                 \u001b[1;32mand\u001b[0m \u001b[0mcallable\u001b[0m\u001b[1;33m(\u001b[0m\u001b[0mcls\u001b[0m\u001b[1;33m.\u001b[0m\u001b[0m__dict__\u001b[0m\u001b[1;33m.\u001b[0m\u001b[0mget\u001b[0m\u001b[1;33m(\u001b[0m\u001b[1;34m'__repr__'\u001b[0m\u001b[1;33m)\u001b[0m\u001b[1;33m)\u001b[0m\u001b[1;33m:\u001b[0m\u001b[1;33m\u001b[0m\u001b[1;33m\u001b[0m\u001b[0m\n\u001b[1;32m--> 394\u001b[1;33m                             \u001b[1;32mreturn\u001b[0m \u001b[0m_repr_pprint\u001b[0m\u001b[1;33m(\u001b[0m\u001b[0mobj\u001b[0m\u001b[1;33m,\u001b[0m \u001b[0mself\u001b[0m\u001b[1;33m,\u001b[0m \u001b[0mcycle\u001b[0m\u001b[1;33m)\u001b[0m\u001b[1;33m\u001b[0m\u001b[1;33m\u001b[0m\u001b[0m\n\u001b[0m\u001b[0;32m    395\u001b[0m \u001b[1;33m\u001b[0m\u001b[0m\n\u001b[0;32m    396\u001b[0m             \u001b[1;32mreturn\u001b[0m \u001b[0m_default_pprint\u001b[0m\u001b[1;33m(\u001b[0m\u001b[0mobj\u001b[0m\u001b[1;33m,\u001b[0m \u001b[0mself\u001b[0m\u001b[1;33m,\u001b[0m \u001b[0mcycle\u001b[0m\u001b[1;33m)\u001b[0m\u001b[1;33m\u001b[0m\u001b[1;33m\u001b[0m\u001b[0m\n",
      "\u001b[1;32m~\\miniconda3\\lib\\site-packages\\IPython\\lib\\pretty.py\u001b[0m in \u001b[0;36m_repr_pprint\u001b[1;34m(obj, p, cycle)\u001b[0m\n\u001b[0;32m    698\u001b[0m     \u001b[1;34m\"\"\"A pprint that just redirects to the normal repr function.\"\"\"\u001b[0m\u001b[1;33m\u001b[0m\u001b[1;33m\u001b[0m\u001b[0m\n\u001b[0;32m    699\u001b[0m     \u001b[1;31m# Find newlines and replace them with p.break_()\u001b[0m\u001b[1;33m\u001b[0m\u001b[1;33m\u001b[0m\u001b[1;33m\u001b[0m\u001b[0m\n\u001b[1;32m--> 700\u001b[1;33m     \u001b[0moutput\u001b[0m \u001b[1;33m=\u001b[0m \u001b[0mrepr\u001b[0m\u001b[1;33m(\u001b[0m\u001b[0mobj\u001b[0m\u001b[1;33m)\u001b[0m\u001b[1;33m\u001b[0m\u001b[1;33m\u001b[0m\u001b[0m\n\u001b[0m\u001b[0;32m    701\u001b[0m     \u001b[0mlines\u001b[0m \u001b[1;33m=\u001b[0m \u001b[0moutput\u001b[0m\u001b[1;33m.\u001b[0m\u001b[0msplitlines\u001b[0m\u001b[1;33m(\u001b[0m\u001b[1;33m)\u001b[0m\u001b[1;33m\u001b[0m\u001b[1;33m\u001b[0m\u001b[0m\n\u001b[0;32m    702\u001b[0m     \u001b[1;32mwith\u001b[0m \u001b[0mp\u001b[0m\u001b[1;33m.\u001b[0m\u001b[0mgroup\u001b[0m\u001b[1;33m(\u001b[0m\u001b[1;33m)\u001b[0m\u001b[1;33m:\u001b[0m\u001b[1;33m\u001b[0m\u001b[1;33m\u001b[0m\u001b[0m\n",
      "\u001b[1;32m~\\miniconda3\\lib\\site-packages\\django\\db\\models\\query.py\u001b[0m in \u001b[0;36m__repr__\u001b[1;34m(self)\u001b[0m\n\u001b[0;32m    257\u001b[0m         \u001b[1;32mif\u001b[0m \u001b[0mlen\u001b[0m\u001b[1;33m(\u001b[0m\u001b[0mdata\u001b[0m\u001b[1;33m)\u001b[0m \u001b[1;33m>\u001b[0m \u001b[0mREPR_OUTPUT_SIZE\u001b[0m\u001b[1;33m:\u001b[0m\u001b[1;33m\u001b[0m\u001b[1;33m\u001b[0m\u001b[0m\n\u001b[0;32m    258\u001b[0m             \u001b[0mdata\u001b[0m\u001b[1;33m[\u001b[0m\u001b[1;33m-\u001b[0m\u001b[1;36m1\u001b[0m\u001b[1;33m]\u001b[0m \u001b[1;33m=\u001b[0m \u001b[1;34m\"...(remaining elements truncated)...\"\u001b[0m\u001b[1;33m\u001b[0m\u001b[1;33m\u001b[0m\u001b[0m\n\u001b[1;32m--> 259\u001b[1;33m         \u001b[1;32mreturn\u001b[0m \u001b[1;34m'<%s %r>'\u001b[0m \u001b[1;33m%\u001b[0m \u001b[1;33m(\u001b[0m\u001b[0mself\u001b[0m\u001b[1;33m.\u001b[0m\u001b[0m__class__\u001b[0m\u001b[1;33m.\u001b[0m\u001b[0m__name__\u001b[0m\u001b[1;33m,\u001b[0m \u001b[0mdata\u001b[0m\u001b[1;33m)\u001b[0m\u001b[1;33m\u001b[0m\u001b[1;33m\u001b[0m\u001b[0m\n\u001b[0m\u001b[0;32m    260\u001b[0m \u001b[1;33m\u001b[0m\u001b[0m\n\u001b[0;32m    261\u001b[0m     \u001b[1;32mdef\u001b[0m \u001b[0m__len__\u001b[0m\u001b[1;33m(\u001b[0m\u001b[0mself\u001b[0m\u001b[1;33m)\u001b[0m\u001b[1;33m:\u001b[0m\u001b[1;33m\u001b[0m\u001b[1;33m\u001b[0m\u001b[0m\n",
      "\u001b[1;32m~\\miniconda3\\lib\\site-packages\\django\\db\\models\\base.py\u001b[0m in \u001b[0;36m__repr__\u001b[1;34m(self)\u001b[0m\n\u001b[0;32m    523\u001b[0m \u001b[1;33m\u001b[0m\u001b[0m\n\u001b[0;32m    524\u001b[0m     \u001b[1;32mdef\u001b[0m \u001b[0m__repr__\u001b[0m\u001b[1;33m(\u001b[0m\u001b[0mself\u001b[0m\u001b[1;33m)\u001b[0m\u001b[1;33m:\u001b[0m\u001b[1;33m\u001b[0m\u001b[1;33m\u001b[0m\u001b[0m\n\u001b[1;32m--> 525\u001b[1;33m         \u001b[1;32mreturn\u001b[0m \u001b[1;34m'<%s: %s>'\u001b[0m \u001b[1;33m%\u001b[0m \u001b[1;33m(\u001b[0m\u001b[0mself\u001b[0m\u001b[1;33m.\u001b[0m\u001b[0m__class__\u001b[0m\u001b[1;33m.\u001b[0m\u001b[0m__name__\u001b[0m\u001b[1;33m,\u001b[0m \u001b[0mself\u001b[0m\u001b[1;33m)\u001b[0m\u001b[1;33m\u001b[0m\u001b[1;33m\u001b[0m\u001b[0m\n\u001b[0m\u001b[0;32m    526\u001b[0m \u001b[1;33m\u001b[0m\u001b[0m\n\u001b[0;32m    527\u001b[0m     \u001b[1;32mdef\u001b[0m \u001b[0m__str__\u001b[0m\u001b[1;33m(\u001b[0m\u001b[0mself\u001b[0m\u001b[1;33m)\u001b[0m\u001b[1;33m:\u001b[0m\u001b[1;33m\u001b[0m\u001b[1;33m\u001b[0m\u001b[0m\n",
      "\u001b[1;32mF:\\VPP\\affilate\\models.py\u001b[0m in \u001b[0;36m__str__\u001b[1;34m(self)\u001b[0m\n\u001b[0;32m     30\u001b[0m     \u001b[0mupdated\u001b[0m \u001b[1;33m=\u001b[0m \u001b[0mmodels\u001b[0m\u001b[1;33m.\u001b[0m\u001b[0mDateTimeField\u001b[0m\u001b[1;33m(\u001b[0m\u001b[0mauto_now\u001b[0m\u001b[1;33m=\u001b[0m\u001b[1;32mTrue\u001b[0m\u001b[1;33m)\u001b[0m\u001b[1;33m\u001b[0m\u001b[1;33m\u001b[0m\u001b[0m\n\u001b[0;32m     31\u001b[0m     \u001b[0mcreated\u001b[0m \u001b[1;33m=\u001b[0m \u001b[0mmodels\u001b[0m\u001b[1;33m.\u001b[0m\u001b[0mDateTimeField\u001b[0m\u001b[1;33m(\u001b[0m\u001b[0mauto_now_add\u001b[0m\u001b[1;33m=\u001b[0m \u001b[1;32mTrue\u001b[0m\u001b[1;33m)\u001b[0m\u001b[1;33m\u001b[0m\u001b[1;33m\u001b[0m\u001b[0m\n\u001b[1;32m---> 32\u001b[1;33m \u001b[1;33m\u001b[0m\u001b[0m\n\u001b[0m\u001b[0;32m     33\u001b[0m     \u001b[1;32mdef\u001b[0m \u001b[0m__str__\u001b[0m\u001b[1;33m(\u001b[0m\u001b[0mself\u001b[0m\u001b[1;33m)\u001b[0m\u001b[1;33m:\u001b[0m\u001b[1;33m\u001b[0m\u001b[1;33m\u001b[0m\u001b[0m\n\u001b[0;32m     34\u001b[0m         \u001b[1;32mreturn\u001b[0m \u001b[1;34mf\"{self.user.username}-{self.bonus}-{self.blance}\"\u001b[0m\u001b[1;33m\u001b[0m\u001b[1;33m\u001b[0m\u001b[0m\n",
      "\u001b[1;31mAttributeError\u001b[0m: 'user_bonus' object has no attribute 'blance'"
     ]
    }
   ],
   "source": [
    "from affilate.models import user_bonus\n",
    "user_bonus.objects.all()"
   ]
  },
  {
   "cell_type": "markdown",
   "metadata": {},
   "source": [
    "# Tron"
   ]
  },
  {
   "cell_type": "code",
   "execution_count": 28,
   "metadata": {
    "ExecuteTime": {
     "end_time": "2022-06-23T06:56:13.192373Z",
     "start_time": "2022-06-23T06:56:13.174384Z"
    }
   },
   "outputs": [],
   "source": [
    "#!pip install tronpy\n",
    "from tronpy import Tron\n",
    "from tronpy.keys import PrivateKey\n",
    "import time\n",
    "from affilate.models import User_transcations, user_wallet\n",
    "\n",
    "client = Tron()\n",
    "\"\"\"\n",
    "from tronpy.providers import HTTPProvider\n",
    "# Use private network as HTTP API endpoint\n",
    "client = Tron(HTTPProvider(\"http://127.0.0.1:8090\"))\n",
    "\"\"\"\n",
    "\n",
    "# create a Tron wallet and print out the wallet address & private key\n",
    "def create_wallet(): \n",
    "    wallet = client.generate_address()\n",
    "    print(\"Wallet address:  %s\" % wallet['base58check_address'])\n",
    "    print(\"Private Key:  %s\" % wallet['private_key'])\n",
    "    return wallet['base58check_address'] , wallet['private_key']\n",
    "\n",
    "\n",
    "#public_key,  private_key = create_wallet()\n",
    "\n",
    "\n",
    "\n",
    "def get_usdt_balance(adress):\n",
    "    \"Return the balance of the user wallet in USDT\"\n",
    "    CONTRACT = \"TR7NHqjeKQxGTCi8q8ZY4pL8otSzgjLj6t\"\n",
    "    cntr = client.get_contract(CONTRACT) \n",
    "    precision = cntr.functions.decimals()\n",
    "    return cntr.functions.balanceOf(adress) / 10 ** precision\n",
    "\n",
    "def transfer_usdt(from_user, to_user, amount):\n",
    "    try:\n",
    "        \n",
    "        from_user_api = user_wallet.objects.get(user = from_user).get_api()\n",
    "        \n",
    "        from_adress = from_user_api['public_key']\n",
    "        priv_key = from_user_api['secret_key']\n",
    "        to_adress = user_wallet.objects.get(user = from_user).get_api()['public_key']\n",
    "    except Exception as e:\n",
    "        print(\"Error in Wallet key :\", e)\n",
    "        return 0\n",
    "    \n",
    "    CONTRACT = \"TR7NHqjeKQxGTCi8q8ZY4pL8otSzgjLj6t\"\n",
    "    print(\"Creating request for transfer on tron\")\n",
    "    contract = client.get_contract(CONTRACT) #(\"THi2qJf6XmvTJSpZHc17HgQsmJop6kb3ia\")\n",
    "\n",
    "    amount = amount *1000000\n",
    "    try:\n",
    "        txn = (contract.functions.transfer(to_adress, ).with_owner(from_adress)  # address of the private key \n",
    "               .fee_limit(5_000_000)         \n",
    "               .build()\n",
    "               .sign(priv_key))\n",
    "        time.sleep(5)# waiting for the transfer\n",
    "        #User_transcations.objects.create()\n",
    "\n",
    "        result =  txn.broadcast().result()\n",
    "    except Exception as e:\n",
    "        print(\"issue is :\", e)\n",
    "    print(\"Transfer completed\")\n",
    "    return result\n",
    "    \n",
    "    "
   ]
  },
  {
   "cell_type": "code",
   "execution_count": 28,
   "metadata": {
    "ExecuteTime": {
     "end_time": "2022-06-23T05:55:15.867258Z",
     "start_time": "2022-06-23T05:55:15.853247Z"
    }
   },
   "outputs": [],
   "source": [
    "from affilate.models import user_wallet"
   ]
  },
  {
   "cell_type": "code",
   "execution_count": null,
   "metadata": {},
   "outputs": [],
   "source": [
    "from affilate.models import  User_transcations,"
   ]
  },
  {
   "cell_type": "code",
   "execution_count": 19,
   "metadata": {
    "ExecuteTime": {
     "end_time": "2022-06-23T06:52:15.516569Z",
     "start_time": "2022-06-23T06:52:15.502580Z"
    }
   },
   "outputs": [
    {
     "data": {
      "text/plain": [
       "<User: Heliex_5>"
      ]
     },
     "execution_count": 19,
     "metadata": {},
     "output_type": "execute_result"
    }
   ],
   "source": [
    "Heliex = User.objects.get(username= 'Heliex_5')\n",
    "Heliex"
   ]
  },
  {
   "cell_type": "code",
   "execution_count": 9,
   "metadata": {
    "ExecuteTime": {
     "end_time": "2022-06-23T06:45:02.061423Z",
     "start_time": "2022-06-23T06:45:00.012847Z"
    }
   },
   "outputs": [
    {
     "name": "stderr",
     "output_type": "stream",
     "text": [
      "W: Exceed the user daily usage (100000), the maximum query frequency is 1 time per second\n",
      "W: Exceed the user daily usage (100000), the maximum query frequency is 1 time per second\n"
     ]
    },
    {
     "data": {
      "text/plain": [
       "1.0"
      ]
     },
     "execution_count": 9,
     "metadata": {},
     "output_type": "execute_result"
    }
   ],
   "source": [
    "#distrubute_refer_bonus(salman, 1)\n",
    "get_usdt_balance(\"TXLSrrddpsnVrrDVWuexmMN8KLuLz7HxDQ\")"
   ]
  },
  {
   "cell_type": "code",
   "execution_count": 29,
   "metadata": {
    "ExecuteTime": {
     "end_time": "2022-06-23T06:56:23.937717Z",
     "start_time": "2022-06-23T06:56:20.312803Z"
    }
   },
   "outputs": [
    {
     "name": "stdout",
     "output_type": "stream",
     "text": [
      "Trying to Add  0.01  to  KatharineS_4\n",
      "Creating request for transfer on tron\n",
      "Adding amount  0.01\n",
      "saved 1\n",
      "Trying to Add  0.005  to  Shean_3\n",
      "Creating request for transfer on tron\n",
      "Adding amount  0.005\n",
      "saved 2\n",
      "Trying to Add  0.005  to  Paul_2\n",
      "Creating request for transfer on tron\n",
      "Adding amount  0.005\n",
      "saved 3\n",
      "Trying to Add  0.08  to  superuser1\n",
      "Creating request for transfer on tron\n"
     ]
    }
   ],
   "source": [
    "distrubute_refer_bonus(Heliex, 0.1)"
   ]
  },
  {
   "cell_type": "code",
   "execution_count": 22,
   "metadata": {
    "ExecuteTime": {
     "end_time": "2022-06-23T06:52:53.099877Z",
     "start_time": "2022-06-23T06:52:53.082370Z"
    }
   },
   "outputs": [
    {
     "data": {
      "text/plain": [
       "({'public_key': 'TRczgtYBjnJ3dWdEZgSWkzU25FVmLo4372',\n",
       "  'secret_key': '45f6b81272f8cfb7ad21d2879b262ec4614ac6a9c5c5bbef95268af1ea7b37aa'},\n",
       " 'TRczgtYBjnJ3dWdEZgSWkzU25FVmLo4372',\n",
       " '45f6b81272f8cfb7ad21d2879b262ec4614ac6a9c5c5bbef95268af1ea7b37aa')"
      ]
     },
     "execution_count": 22,
     "metadata": {},
     "output_type": "execute_result"
    }
   ],
   "source": [
    "kt = User.objects.get(username= 'KatharineS_4')\n",
    "from_user_api = user_wallet.objects.get(user = kt).get_api()\n",
    "from_adress = from_user_api['public_key']\n",
    "priv_key = from_user_api['secret_key']\n",
    "from_user_api , from_adress, priv_key"
   ]
  },
  {
   "cell_type": "code",
   "execution_count": 14,
   "metadata": {
    "ExecuteTime": {
     "end_time": "2022-06-23T06:48:55.666915Z",
     "start_time": "2022-06-23T06:48:55.646931Z"
    }
   },
   "outputs": [
    {
     "data": {
      "text/plain": [
       "<QuerySet [<user_wallet: Paul_2-0.0>, <user_wallet: Heliex_5-0.0>, <user_wallet: superuser1-0.0>, <user_wallet: KatharineS_4-0.0>, <user_wallet: Shean_3-0.0>]>"
      ]
     },
     "execution_count": 14,
     "metadata": {},
     "output_type": "execute_result"
    }
   ],
   "source": [
    "user_wallet.objects.all()"
   ]
  },
  {
   "cell_type": "code",
   "execution_count": 15,
   "metadata": {
    "ExecuteTime": {
     "end_time": "2022-06-23T06:49:01.326368Z",
     "start_time": "2022-06-23T06:49:01.312361Z"
    }
   },
   "outputs": [
    {
     "data": {
      "text/plain": [
       "<User: KatharineS_4>"
      ]
     },
     "execution_count": 15,
     "metadata": {},
     "output_type": "execute_result"
    }
   ],
   "source": [
    "kt"
   ]
  },
  {
   "cell_type": "code",
   "execution_count": 16,
   "metadata": {
    "ExecuteTime": {
     "end_time": "2022-06-23T06:49:35.579903Z",
     "start_time": "2022-06-23T06:49:35.569909Z"
    }
   },
   "outputs": [
    {
     "data": {
      "text/plain": [
       "<user_wallet: KatharineS_4-0.0>"
      ]
     },
     "execution_count": 16,
     "metadata": {},
     "output_type": "execute_result"
    }
   ],
   "source": [
    "user_wallet.objects.get(user = kt)"
   ]
  },
  {
   "cell_type": "code",
   "execution_count": null,
   "metadata": {},
   "outputs": [],
   "source": []
  }
 ],
 "metadata": {
  "kernelspec": {
   "display_name": "Python 3",
   "language": "python",
   "name": "python3"
  },
  "language_info": {
   "codemirror_mode": {
    "name": "ipython",
    "version": 3
   },
   "file_extension": ".py",
   "mimetype": "text/x-python",
   "name": "python",
   "nbconvert_exporter": "python",
   "pygments_lexer": "ipython3",
   "version": "3.8.5"
  }
 },
 "nbformat": 4,
 "nbformat_minor": 4
}
